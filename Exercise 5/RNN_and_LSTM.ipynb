{
  "cells": [
    {
      "cell_type": "code",
      "execution_count": 3,
      "metadata": {
        "id": "rvcyRuYbP7UV"
      },
      "outputs": [],
      "source": [
        "import tensorflow as tf\n",
        "import pandas as pd\n",
        "import pickle\n",
        "import matplotlib.pyplot as plt\n",
        "import numpy as np\n",
        "import time\n",
        "%matplotlib inline\n",
        "tf.random.set_seed(5184)"
      ]
    },
    {
      "cell_type": "code",
      "execution_count": 4,
      "metadata": {
        "id": "ur6a2Sw5WJjM"
      },
      "outputs": [],
      "source": [
        "import sys\n",
        "sys.path.insert(1,'data/')\n",
        "from data_utils import parse_imdb_sequence"
      ]
    },
    {
      "cell_type": "code",
      "execution_count": 5,
      "metadata": {
        "colab": {
          "base_uri": "https://localhost:8080/",
          "height": 281
        },
        "id": "CMNILJ0PP7UW",
        "outputId": "aa7bd988-3ef6-4fb5-f1d7-672bba20e857"
      },
      "outputs": [
        {
          "output_type": "display_data",
          "data": {
            "text/plain": [
              "<Figure size 432x288 with 1 Axes>"
            ],
            "image/png": "[encoded data removed]"
          },
          "metadata": {
            "needs_background": "light"
          }
        }
      ],
      "source": [
        "length_reviews = pickle.load(open('data/length_reviews.pkl', 'rb'))\n",
        "pd.DataFrame(length_reviews, columns=['Length reviews']).hist(bins=100, color='blue')\n",
        "plt.grid(False)"
      ]
    },
    {
      "cell_type": "code",
      "execution_count": 6,
      "metadata": {
        "id": "ijVfbU9jP7UY"
      },
      "outputs": [],
      "source": [
        "batch_size=64\n",
        "full_dataset = tf.data.TFRecordDataset('data/train.tfrecords')\n",
        "full_dataset = full_dataset.map(parse_imdb_sequence).shuffle(buffer_size=25000,reshuffle_each_iteration=False)\n",
        "number_train=25000\n",
        "train_size=int(0.8*number_train)\n",
        "val_size=int(0.2*number_train)\n",
        "train_dataset = full_dataset.take(train_size)\n",
        "train_dataset = train_dataset.padded_batch(batch_size, padded_shapes=([None],[],[]))\n",
        "val_dataset = full_dataset.skip(train_size)\n",
        "val_dataset = val_dataset.padded_batch(batch_size, padded_shapes=([None],[],[]))\n",
        "\n",
        "test_dataset = tf.data.TFRecordDataset('data/test.tfrecords')\n",
        "test_dataset = test_dataset.map(parse_imdb_sequence).shuffle(buffer_size=10000)\n",
        "test_dataset = test_dataset.padded_batch(batch_size, padded_shapes=([None],[],[]))"
      ]
    },
    {
      "cell_type": "code",
      "execution_count": 7,
      "metadata": {
        "id": "-0boPqdDP7UY"
      },
      "outputs": [],
      "source": [
        "# Read the word vocabulary\n",
        "word2idx = pickle.load(open('data/word2idx.pkl', 'rb'))"
      ]
    },
    {
      "cell_type": "markdown",
      "metadata": {
        "id": "7jVOSepgP7UY"
      },
      "source": [
        "## RNN model for sequence classification, compatible with Eager API \n",
        "----\n"
      ]
    },
    {
      "cell_type": "code",
      "execution_count": 9,
      "metadata": {
        "id": "DAiCGzYq9IxQ"
      },
      "outputs": [],
      "source": [
        "def GetRunTime(func):\n",
        "    def call_func(*args, **kwargs):\n",
        "        begin_time = time.time()\n",
        "        ret = func(*args, **kwargs)\n",
        "        end_time = time.time()\n",
        "        Run_time = end_time - begin_time\n",
        "        print(str(func.__name__)+\" function running time is \"+str(Run_time))\n",
        "        return ret\n",
        "    return call_func"
      ]
    },
    {
      "cell_type": "code",
      "execution_count": 11,
      "metadata": {
        "id": "iUoWg4BSP7UY"
      },
      "outputs": [],
      "source": [
        "class RNNModel(tf.keras.Model):\n",
        "    def __init__(self, embedding_size=100, cell_size=64, dense_size=128, \n",
        "                 num_classes=2, vocabulary_size=None, rnn_cell='lstm',\n",
        "                 device='cpu:0', checkpoint_directory=None):\n",
        "        ''' Define the parameterized layers used during forward-pass, the device\n",
        "            where you would like to run the computation on and the checkpoint\n",
        "            directory. Additionaly, you can also modify the default size of the \n",
        "            network.\n",
        "            \n",
        "            Args:\n",
        "                embedding_size: the size of the word embedding.\n",
        "                cell_size: RNN cell size.\n",
        "                dense_size: the size of the dense layer.\n",
        "                num_classes: the number of labels in the network.\n",
        "                vocabulary_size: the size of the word vocabulary.\n",
        "                rnn_cell: string, either 'lstm' or 'ugrnn'.\n",
        "                device: string, 'cpu:n' or 'gpu:n' (n can vary). Default, 'cpu:0'.\n",
        "                checkpoint_directory: the directory where you would like to save or \n",
        "                                      restore a model.\n",
        "        '''\n",
        "        super(RNNModel, self).__init__()\n",
        "        \n",
        "        # Weights initializer function\n",
        "        w_initializer = tf.compat.v1.keras.initializers.glorot_uniform()\n",
        "    \n",
        "        # Biases initializer function\n",
        "        b_initializer = tf.zeros_initializer()\n",
        "        \n",
        "        # Initialize weights for word embeddings \n",
        "        self.embeddings = tf.keras.layers.Embedding(vocabulary_size, embedding_size, \n",
        "                                                    embeddings_initializer=w_initializer)\n",
        "        \n",
        "        # Dense layer initialization\n",
        "        self.dense_layer = tf.keras.layers.Dense(dense_size, activation=tf.nn.relu, \n",
        "                                                 kernel_initializer=w_initializer, \n",
        "                                                 bias_initializer=b_initializer)\n",
        "        \n",
        "        # Predictions layer initialization\n",
        "        self.pred_layer = tf.keras.layers.Dense(num_classes, activation=None, \n",
        "                                                kernel_initializer=w_initializer, \n",
        "                                                bias_initializer=b_initializer)\n",
        "        \n",
        "        # Basic LSTM cell\n",
        "        if rnn_cell=='lstm':\n",
        "            self.rnn_cell = tf.compat.v1.nn.rnn_cell.BasicLSTMCell(cell_size)\n",
        "        # Else RNN cell\n",
        "        else:\n",
        "            self.rnn_cell = tf.compat.v1.nn.rnn_cell.BasicRNNCell(cell_size)\n",
        "            \n",
        "        # Define the device \n",
        "        self.device = device\n",
        "        \n",
        "        # Define the checkpoint directory\n",
        "        self.checkpoint_directory = checkpoint_directory\n",
        "        \n",
        "    def predict(self, X, seq_length, is_training):\n",
        "        '''\n",
        "        Predicts the probability of each class, based on the input sample.\n",
        "\n",
        "        Args:\n",
        "            X: 2D tensor of shape (batch_size, time_steps).\n",
        "            seq_length: the length of each sequence in the batch.\n",
        "            is_training: Boolean. Either the network is predicting in\n",
        "                         training mode or not.\n",
        "        '''\n",
        "        \n",
        "        # Get the number of samples within a batch\n",
        "        num_samples = tf.shape(X)[0]\n",
        "\n",
        "        # Initialize LSTM cell state with zeros\n",
        "        state = self.rnn_cell.zero_state(num_samples, dtype=tf.float32)\n",
        "        \n",
        "        # Get the embedding of each word in the sequence\n",
        "        embedded_words = self.embeddings(X)\n",
        "        \n",
        "        # Unstack the embeddings\n",
        "        unstacked_embeddings = tf.unstack(embedded_words, axis=1)\n",
        "        \n",
        "        # Iterate through each timestep and append the predictions\n",
        "        outputs = []\n",
        "        for input_step in unstacked_embeddings:\n",
        "            output, state = self.rnn_cell(input_step, state)\n",
        "            outputs.append(output)\n",
        "            \n",
        "        # Stack outputs to (batch_size, time_steps, cell_size)\n",
        "        outputs = tf.stack(outputs, axis=1)\n",
        "        \n",
        "        # Extract the output of the last time step, of each sample\n",
        "        idxs_last_output = tf.stack([tf.range(num_samples), \n",
        "                                     tf.cast(seq_length-1, tf.int32)], axis=1)\n",
        "        final_output = tf.gather_nd(outputs, idxs_last_output)\n",
        "        \n",
        "        # Add dropout for regularization\n",
        "        #dropped_output = tf.compat.v1.layers.Dropout(final_output, rate=0.3, training=is_training)\n",
        "        \n",
        "        # Pass the last cell state through a dense layer (ReLU activation)\n",
        "        dense = self.dense_layer(final_output)\n",
        "        \n",
        "        # Compute the unnormalized log probabilities\n",
        "        logits = self.pred_layer(dense)\n",
        "        return logits\n",
        "    \n",
        "    def loss_fn(self, X, y, seq_length, is_training):\n",
        "        \"\"\" Defines the loss function used during \n",
        "            training.         \n",
        "        \"\"\"\n",
        "        preds = self.predict(X, seq_length, is_training)\n",
        "        loss = tf.nn.sparse_softmax_cross_entropy_with_logits(labels=y, logits=preds)\n",
        "        return loss\n",
        "    \n",
        "    def grads_fn(self, X, y, seq_length, is_training):\n",
        "        \"\"\" Dynamically computes the gradients of the loss value\n",
        "            with respect to the parameters of the model, in each\n",
        "            forward pass.\n",
        "        \"\"\"\n",
        "        with tf.GradientTape() as tape:\n",
        "            loss = self.loss_fn(X, y, seq_length, is_training)\n",
        "        return tape.gradient(loss, self.variables)\n",
        "    \n",
        "    def restore_model(self):\n",
        "        \"\"\" Function to restore trained model.\n",
        "        \"\"\"\n",
        "        with tf.device(self.device):\n",
        "            # Run the model once to initialize variables\n",
        "            dummy_input = tf.constant(tf.zeros((1,1)))\n",
        "            dummy_length = tf.constant(1, shape=(1,))\n",
        "            dummy_pred = self.predict(dummy_input, dummy_length, False)\n",
        "            # Restore the variables of the model\n",
        "            saver = tf.compat.v1.train.Saver(self.variables)\n",
        "            saver.restore(tf.train.latest_checkpoint\n",
        "                          (self.checkpoint_directory))\n",
        "    \n",
        "    def save_model(self, global_step=0):\n",
        "        \"\"\" Function to save trained model.\n",
        "        \"\"\"\n",
        "        tf.compat.v1.train.Saver(self.variables).save(save_path=self.checkpoint_directory, \n",
        "                                       global_step=global_step)   \n",
        "        \n",
        "    @GetRunTime\n",
        "    def fit(self, training_data, eval_data, optimizer, num_epochs=500, \n",
        "            early_stopping_rounds=10, verbose=10, train_from_scratch=False):\n",
        "        \"\"\" Function to train the model, using the selected optimizer and\n",
        "            for the desired number of epochs. You can either train from scratch\n",
        "            or load the latest model trained. Early stopping is used in order to\n",
        "            mitigate the risk of overfitting the network.\n",
        "            \n",
        "            Args:\n",
        "                training_data: the data you would like to train the model on.\n",
        "                                Must be in the tf.data.Dataset format.\n",
        "                eval_data: the data you would like to evaluate the model on.\n",
        "                            Must be in the tf.data.Dataset format.\n",
        "                optimizer: the optimizer used during training.\n",
        "                num_epochs: the maximum number of iterations you would like to \n",
        "                            train the model.\n",
        "                early_stopping_rounds: stop training if the accuracy on the eval \n",
        "                                       dataset does not increase after n epochs.\n",
        "                verbose: int. Specify how often to print the loss value of the network.\n",
        "                train_from_scratch: boolean. Whether to initialize variables of the\n",
        "                                    the last trained model or initialize them\n",
        "                                    randomly.\n",
        "        \"\"\" \n",
        "    \n",
        "        if train_from_scratch==False:\n",
        "            self.restore_model()\n",
        "        \n",
        "        # Initialize best_acc. This variable will store the highest accuracy\n",
        "        # on the eval dataset.\n",
        "        best_acc = 0\n",
        "        \n",
        "        # Initialize classes to update the mean accuracy of train and eval\n",
        "        train_acc = tf.keras.metrics.Accuracy('train_acc')\n",
        "        eval_acc = tf.keras.metrics.Accuracy('eval_acc')\n",
        "        \n",
        "        # Initialize dictionary to store the accuracy history\n",
        "        self.history = {}\n",
        "        self.history['train_acc'] = []\n",
        "        self.history['eval_acc'] = []\n",
        "        \n",
        "        # Begin training\n",
        "        with tf.device(self.device):\n",
        "            for i in range(num_epochs):\n",
        "                # Training with gradient descent\n",
        "                for step, (X, y, seq_length) in enumerate(training_data):\n",
        "                    grads = self.grads_fn(X, y, seq_length, True)\n",
        "                    optimizer.apply_gradients(zip(grads, self.variables))\n",
        "                    \n",
        "                # Check accuracy train dataset\n",
        "                for step, (X, y, seq_length) in enumerate(training_data):\n",
        "                    logits = self.predict(X, seq_length, False)\n",
        "                    preds = tf.argmax(logits, axis=1)\n",
        "                    train_acc(preds, y)\n",
        "                self.history['train_acc'].append(train_acc.result().numpy())\n",
        "                # Reset metrics\n",
        "                train_acc.reset_states()\n",
        "\n",
        "                # Check accuracy eval dataset\n",
        "                for step, (X, y, seq_length) in enumerate(eval_data):\n",
        "                    logits = self.predict(X, seq_length, False)\n",
        "                    preds = tf.argmax(logits, axis=1)\n",
        "                    eval_acc(preds, y)\n",
        "                self.history['eval_acc'].append(eval_acc.result().numpy())\n",
        "                # Reset metrics\n",
        "                eval_acc.reset_states()\n",
        "                \n",
        "                # Print train and eval accuracy\n",
        "                if (i==0) | ((i+1)%verbose==0):\n",
        "                    print('Train accuracy at epoch %d: ' %(i+1), self.history['train_acc'][-1])\n",
        "                    print('Eval accuracy at epoch %d: ' %(i+1), self.history['eval_acc'][-1])\n",
        "\n",
        "                # Check for early stopping\n",
        "                if self.history['eval_acc'][-1]>best_acc:\n",
        "                    best_acc = self.history['eval_acc'][-1]\n",
        "                    count = early_stopping_rounds\n",
        "                else:\n",
        "                    count -= 1\n",
        "                if count==0:\n",
        "                    break  \n",
        "    \n",
        "    @GetRunTime\n",
        "    def test(self, test_data):\n",
        "        test_acc = tf.keras.metrics.Accuracy('test_acc')\n",
        "        with tf.device(self.device):\n",
        "            for step, (X, y, seq_length) in enumerate(test_data):\n",
        "                logits = self.predict(X, seq_length, False)\n",
        "                preds = tf.argmax(logits, axis=1)\n",
        "                test_acc(preds, y)\n",
        "            print('Test accuracy: ', test_acc.result().numpy())\n",
        "      "
      ]
    },
    {
      "cell_type": "markdown",
      "metadata": {
        "id": "Pq07GFNrP7UZ"
      },
      "source": [
        "## Train model with gradient descent and early stopping\n",
        "----"
      ]
    },
    {
      "cell_type": "markdown",
      "metadata": {
        "id": "VIuGUj5CP7UZ"
      },
      "source": [
        "### Model training with simple LSTM cells\n",
        "----"
      ]
    },
    {
      "cell_type": "code",
      "execution_count": 12,
      "metadata": {
        "colab": {
          "base_uri": "https://localhost:8080/"
        },
        "id": "uqk_DJZ3P7Ua",
        "outputId": "e18e9f47-0cd1-451f-96f8-1b30bb6a5a43"
      },
      "outputs": [
        {
          "output_type": "stream",
          "name": "stdout",
          "text": [
            "WARNING:tensorflow:<keras.layers.legacy_rnn.rnn_cell_impl.BasicLSTMCell object at 0x7f044de81350>: Note that this cell is not optimized for performance. Please use tf.contrib.cudnn_rnn.CudnnLSTM for better performance on GPU.\n"
          ]
        },
        {
          "output_type": "stream",
          "name": "stderr",
          "text": [
            "/usr/local/lib/python3.7/dist-packages/ipykernel_launcher.py:45: UserWarning: `tf.nn.rnn_cell.BasicLSTMCell` is deprecated and will be removed in a future version. This class is equivalent as `tf.keras.layers.LSTMCell`, and will be replaced by that in Tensorflow 2.0.\n"
          ]
        }
      ],
      "source": [
        "# Specify the path where you want to save/restore the trained variables.\n",
        "checkpoint_directory = 'models_checkpoints/ImdbRNN/'\n",
        "\n",
        "# Use the GPU if available.\n",
        "device = 'gpu:0'\n",
        "\n",
        "# Define optimizer.\n",
        "optimizer = tf.compat.v1.train.AdamOptimizer(learning_rate=1e-4)\n",
        "\n",
        "# Instantiate model. This doesn't initialize the variables yet.\n",
        "lstm_model = RNNModel(vocabulary_size=len(word2idx), device=device, \n",
        "                      checkpoint_directory=checkpoint_directory)"
      ]
    },
    {
      "cell_type": "code",
      "execution_count": 13,
      "metadata": {
        "colab": {
          "base_uri": "https://localhost:8080/"
        },
        "id": "IXvPU8_gP7Ua",
        "outputId": "1ed54287-ec8e-4f39-fa78-82ab4fc5f562"
      },
      "outputs": [
        {
          "output_type": "stream",
          "name": "stderr",
          "text": [
            "/usr/local/lib/python3.7/dist-packages/keras/layers/legacy_rnn/rnn_cell_impl.py:756: UserWarning: `layer.add_variable` is deprecated and will be removed in a future version. Please use `layer.add_weight` method instead.\n",
            "  shape=[input_depth + h_depth, 4 * self._num_units])\n",
            "/usr/local/lib/python3.7/dist-packages/keras/layers/legacy_rnn/rnn_cell_impl.py:760: UserWarning: `layer.add_variable` is deprecated and will be removed in a future version. Please use `layer.add_weight` method instead.\n",
            "  initializer=tf.compat.v1.zeros_initializer(dtype=self.dtype))\n"
          ]
        },
        {
          "output_type": "stream",
          "name": "stdout",
          "text": [
            "Test accuracy:  0.487\n",
            "test function running time is 71.1206521987915\n",
            "Train accuracy at epoch 1:  0.9056\n",
            "Eval accuracy at epoch 1:  0.8654\n",
            "Train accuracy at epoch 2:  0.9571\n",
            "Eval accuracy at epoch 2:  0.8906\n",
            "Train accuracy at epoch 3:  0.97755\n",
            "Eval accuracy at epoch 3:  0.891\n",
            "Train accuracy at epoch 4:  0.9894\n",
            "Eval accuracy at epoch 4:  0.8884\n",
            "Train accuracy at epoch 5:  0.99365\n",
            "Eval accuracy at epoch 5:  0.8912\n",
            "Train accuracy at epoch 6:  0.95595\n",
            "Eval accuracy at epoch 6:  0.8486\n",
            "Train accuracy at epoch 7:  0.9971\n",
            "Eval accuracy at epoch 7:  0.8876\n",
            "fit function running time is 6975.490871667862\n",
            "Test accuracy:  0.86352\n",
            "test function running time is 334.9551603794098\n"
          ]
        }
      ],
      "source": [
        "# Train model\n",
        "lstm_model.test(val_dataset)\n",
        "lstm_model.fit(train_dataset, val_dataset, optimizer, num_epochs=50, \n",
        "                early_stopping_rounds=2, verbose=1, train_from_scratch=True)\n",
        "\n",
        "lstm_model.test(test_dataset)"
      ]
    },
    {
      "cell_type": "code",
      "execution_count": 15,
      "metadata": {
        "id": "_EjYsfyvBaOG"
      },
      "outputs": [],
      "source": [
        "#lstm_model.save_model()\n",
        "checkpoint = tf.train.Checkpoint(lstm_model)\n",
        "save_path = checkpoint.save(checkpoint_directory)"
      ]
    },
    {
      "cell_type": "markdown",
      "metadata": {
        "id": "JmzXh0ljP7Ua"
      },
      "source": [
        "### Model training with RNN cells \n",
        "---"
      ]
    },
    {
      "cell_type": "code",
      "execution_count": 16,
      "metadata": {
        "id": "TmjyKjDYP7Ub",
        "colab": {
          "base_uri": "https://localhost:8080/"
        },
        "outputId": "7236d317-af13-402d-8ad2-2dc5b409fded"
      },
      "outputs": [
        {
          "output_type": "stream",
          "name": "stdout",
          "text": [
            "WARNING:tensorflow:<keras.layers.legacy_rnn.rnn_cell_impl.BasicRNNCell object at 0x7f04c70728d0>: Note that this cell is not optimized for performance. Please use tf.contrib.cudnn_rnn.CudnnRNNTanh for better performance on GPU.\n"
          ]
        },
        {
          "output_type": "stream",
          "name": "stderr",
          "text": [
            "/usr/local/lib/python3.7/dist-packages/ipykernel_launcher.py:48: UserWarning: `tf.nn.rnn_cell.BasicRNNCell` is deprecated and will be removed in a future version. This class is equivalent as `tf.keras.layers.SimpleRNNCell`, and will be replaced by that in Tensorflow 2.0.\n"
          ]
        }
      ],
      "source": [
        "# Define optimizer.\n",
        "optimizer = tf.compat.v1.train.AdamOptimizer(learning_rate=1e-4)\n",
        "\n",
        "# Instantiate model. This doesn't initialize the variables yet.\n",
        "ugrnn_model = RNNModel(vocabulary_size=len(word2idx), rnn_cell='ugrnn', \n",
        "                       device=device, checkpoint_directory=checkpoint_directory)\n"
      ]
    },
    {
      "cell_type": "code",
      "execution_count": 17,
      "metadata": {
        "id": "zd5bDpAzP7Ub",
        "colab": {
          "base_uri": "https://localhost:8080/"
        },
        "outputId": "dcd67eb0-b5b9-4216-ad5d-f5c611f9b6d0"
      },
      "outputs": [
        {
          "output_type": "stream",
          "name": "stderr",
          "text": [
            "/usr/local/lib/python3.7/dist-packages/keras/layers/legacy_rnn/rnn_cell_impl.py:459: UserWarning: `layer.add_variable` is deprecated and will be removed in a future version. Please use `layer.add_weight` method instead.\n",
            "  shape=[input_depth + self._num_units, self._num_units])\n",
            "/usr/local/lib/python3.7/dist-packages/keras/layers/legacy_rnn/rnn_cell_impl.py:463: UserWarning: `layer.add_variable` is deprecated and will be removed in a future version. Please use `layer.add_weight` method instead.\n",
            "  initializer=tf.compat.v1.zeros_initializer(dtype=self.dtype))\n"
          ]
        },
        {
          "output_type": "stream",
          "name": "stdout",
          "text": [
            "Test accuracy:  0.496\n",
            "test function running time is 35.653270959854126\n",
            "Train accuracy at epoch 1:  0.8883\n",
            "Eval accuracy at epoch 1:  0.8484\n",
            "Train accuracy at epoch 2:  0.9498\n",
            "Eval accuracy at epoch 2:  0.8788\n",
            "Train accuracy at epoch 3:  0.97265\n",
            "Eval accuracy at epoch 3:  0.879\n",
            "Train accuracy at epoch 4:  0.9743\n",
            "Eval accuracy at epoch 4:  0.8678\n",
            "Train accuracy at epoch 5:  0.9596\n",
            "Eval accuracy at epoch 5:  0.87\n",
            "fit function running time is 2282.129632949829\n",
            "Test accuracy:  0.82984\n",
            "test function running time is 170.29984760284424\n"
          ]
        }
      ],
      "source": [
        "# Train model\n",
        "ugrnn_model.test(val_dataset)\n",
        "ugrnn_model.fit(train_dataset, val_dataset, optimizer, num_epochs=50, \n",
        "                early_stopping_rounds=2, verbose=1, train_from_scratch=True)\n",
        "\n",
        "ugrnn_model.test(test_dataset)"
      ]
    },
    {
      "cell_type": "markdown",
      "metadata": {
        "id": "7HloeEKJP7Ub"
      },
      "source": [
        "### Performance comparison\n",
        "---"
      ]
    },
    {
      "cell_type": "code",
      "execution_count": 18,
      "metadata": {
        "id": "LW-exJpxP7Ub",
        "colab": {
          "base_uri": "https://localhost:8080/",
          "height": 265
        },
        "outputId": "3dfdd2f2-6d14-4615-fcce-dc5ada477424"
      },
      "outputs": [
        {
          "output_type": "display_data",
          "data": {
            "text/plain": [
              "<Figure size 720x288 with 2 Axes>"
            ],
            "image/png": "[encoded data removed]"
          },
          "metadata": {
            "needs_background": "light"
          }
        }
      ],
      "source": [
        "f, (ax1, ax2) = plt.subplots(1, 2, sharey=True, figsize=(10, 4))\n",
        "ax1.plot(range(1,len(lstm_model.history['train_acc'])+1), lstm_model.history['train_acc'], \n",
        "         label='LSTM Train Accuracy');\n",
        "ax1.plot(range(1,len(lstm_model.history['eval_acc'])+1), lstm_model.history['eval_acc'], \n",
        "         label='LSTM Validation Accuracy');\n",
        "ax2.plot(range(1,len(ugrnn_model.history['train_acc'])+1), ugrnn_model.history['train_acc'],\n",
        "         label='UGRNN Train Accuracy');\n",
        "ax2.plot(range(1,len(ugrnn_model.history['eval_acc'])+1), ugrnn_model.history['eval_acc'],\n",
        "         label='UGRNN Validation Accuracy');\n",
        "ax1.legend();\n",
        "ax2.legend();"
      ]
    },
    {
      "cell_type": "code",
      "execution_count": 19,
      "metadata": {
        "id": "nXSOpyz0P7Uc"
      },
      "outputs": [],
      "source": [
        "###############################################################\n",
        "# Import/download necessary libraries to process new sequences\n",
        "###############################################################\n",
        "import nltk\n",
        "try:\n",
        "    nltk.data.find('tokenizers/punkt')\n",
        "except LookupError:\n",
        "    nltk.download('punkt')\n",
        "from nltk.tokenize import word_tokenize\n",
        "import re"
      ]
    },
    {
      "cell_type": "code",
      "execution_count": 20,
      "metadata": {
        "id": "5zDt0vVlP7Uc"
      },
      "outputs": [],
      "source": [
        "def process_new_review(review):\n",
        "    '''Function to process a new review.\n",
        "       Args:\n",
        "           review: original text review, string.\n",
        "       Returns:\n",
        "           indexed_review: sequence of integers, words correspondence \n",
        "                           from word2idx.\n",
        "           seq_length: the length of the review.\n",
        "    '''\n",
        "    indexed_review = re.sub(r'<[^>]+>', ' ', review)\n",
        "    indexed_review = word_tokenize(indexed_review)\n",
        "    indexed_review = [word2idx[word] if word in list(word2idx.keys()) else \n",
        "                      word2idx['Unknown_token'] for word in indexed_review]\n",
        "    indexed_review = indexed_review + [word2idx['End_token']]\n",
        "    seq_length = len(indexed_review)    \n",
        "    return indexed_review, seq_length"
      ]
    },
    {
      "cell_type": "code",
      "execution_count": 21,
      "metadata": {
        "id": "8ZmRTbHCP7Uc"
      },
      "outputs": [],
      "source": [
        "sent_dict = {0: 'negative', 1: 'positive'}"
      ]
    },
    {
      "cell_type": "code",
      "execution_count": 22,
      "metadata": {
        "id": "lo8W4xfdP7Uc"
      },
      "outputs": [],
      "source": [
        "review_score_10 = \"I think Bad Apples is a great time and I recommend! I enjoyed the opening, which gave way for the rest of the movie to occur. The main couple was very likable and I believed all of their interactions. They had great onscreen chemistry and made me laugh quite a few times! Keeping the girls in the masks but seeing them in action was something I loved. It kept a mystery to them throughout. I think the dialogue was great. The kills were fun. And the special surprise gore effect at the end was AWESOME!! I won't spoil that part ;) I also enjoyed how the movie wrapped up. It gave a very urban legends type feel of \\\"did you ever hear the story...\\\". Plus is leaves the door open for another film which I wouldn't mind at all. Long story short, I think if you take the film for what it is; a fun little horror flick, then you won't be disappointed! HaPpY eArLy HaLLoWeEn!\""
      ]
    },
    {
      "cell_type": "code",
      "execution_count": 23,
      "metadata": {
        "id": "jL2PWrzPP7Uc"
      },
      "outputs": [],
      "source": [
        "review_score_4 = \"A young couple comes to a small town, where the husband get a job working in a hospital. The wife which you instantly hate or dislike works home, at the same time a horrible murders takes place in this small town by two masked killers. Bad Apples is just your tipical B-horror movie with average acting (I give them that. Altough you may get the idea that some of the actors are crazy-convervative Christians), but the script is just bad, and that's what destroys the film.\""
      ]
    },
    {
      "cell_type": "code",
      "execution_count": 24,
      "metadata": {
        "id": "dGJG7F6kP7Uc"
      },
      "outputs": [],
      "source": [
        "review_score_1 = \"When you first start watching this movie, you can tell its going to be a painful ride. the audio is poor...the attacks by the \\\"girls\\\" are like going back in time, to watching the old rocky films, were blows never touched. the editing is poor with it aswell, example the actress in is the bath when her husband comes home, clearly you see her wearing a flesh coloured bra in the bath. no hints or spoilers, just wait till you find it in a bargain basket of cheap dvds in a couple of weeks\""
      ]
    },
    {
      "cell_type": "code",
      "execution_count": 25,
      "metadata": {
        "id": "M-hrh4LCP7Ud"
      },
      "outputs": [],
      "source": [
        "new_reviews = [review_score_10, review_score_4, review_score_1]\n",
        "scores = [10, 4, 1]"
      ]
    },
    {
      "cell_type": "code",
      "execution_count": 26,
      "metadata": {
        "id": "OvVuzgTwP7Ud",
        "colab": {
          "base_uri": "https://localhost:8080/"
        },
        "outputId": "f20636d6-a44c-4ec5-c609-05af4ec56e73"
      },
      "outputs": [
        {
          "output_type": "stream",
          "name": "stdout",
          "text": [
            "The sentiment for the review with score 10 was found to be positive\n",
            "The sentiment for the review with score 4 was found to be negative\n",
            "The sentiment for the review with score 1 was found to be negative\n"
          ]
        }
      ],
      "source": [
        "with tf.device(device):\n",
        "    for original_review, score in zip(new_reviews, scores):\n",
        "        indexed_review, seq_length = process_new_review(original_review)\n",
        "        indexed_review = tf.reshape(tf.constant(indexed_review), (1,-1))\n",
        "        seq_length = tf.reshape(tf.constant(seq_length), (1,))\n",
        "        logits = lstm_model.predict(indexed_review, seq_length, False)\n",
        "        pred = tf.argmax(logits, axis=1).numpy()[0]\n",
        "        print('The sentiment for the review with score %d was found to be %s'\n",
        "              %(score, sent_dict[pred])) "
      ]
    }
  ],
  "metadata": {
    "accelerator": "GPU",
    "colab": {
      "collapsed_sections": [],
      "name": "RNN and LSTM.ipynb",
      "provenance": []
    },
    "kernelspec": {
      "display_name": "Python 3",
      "language": "python",
      "name": "python3"
    },
    "language_info": {
      "codemirror_mode": {
        "name": "ipython",
        "version": 3
      },
      "file_extension": ".py",
      "mimetype": "text/x-python",
      "name": "python",
      "nbconvert_exporter": "python",
      "pygments_lexer": "ipython3",
      "version": "3.8.8"
    }
  },
  "nbformat": 4,
  "nbformat_minor": 0
}