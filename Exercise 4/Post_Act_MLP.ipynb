{
  "cells": [
    {
      "cell_type": "code",
      "execution_count": 19,
      "metadata": {
        "id": "_iYcla4kCX67"
      },
      "outputs": [],
      "source": [
        "import os\n",
        "import numpy as np\n",
        "import time\n",
        "import tensorflow as tf\n",
        "from tensorflow import keras\n",
        "\n",
        "import matplotlib.pyplot as plt\n",
        "\n",
        "\n",
        "seed=1245\n",
        "np.random.seed(1245)\n",
        "tf.random.set_seed(1245)"
      ]
    },
    {
      "cell_type": "code",
      "execution_count": 20,
      "metadata": {
        "colab": {
          "base_uri": "https://localhost:8080/"
        },
        "id": "Kgna3kY6CX67",
        "outputId": "36ab0499-329b-41a9-f77b-9845744bd75d"
      },
      "outputs": [
        {
          "output_type": "execute_result",
          "data": {
            "text/plain": [
              "[]"
            ]
          },
          "metadata": {},
          "execution_count": 20
        }
      ],
      "source": [
        "tf.executing_eagerly()\n",
        "tf.config.list_physical_devices('GPU')"
      ]
    },
    {
      "cell_type": "code",
      "execution_count": 21,
      "metadata": {
        "colab": {
          "base_uri": "https://localhost:8080/",
          "height": 168
        },
        "id": "JodgHy9nCX68",
        "outputId": "0985b3d5-fb86-4845-c92c-195510a1d05d"
      },
      "outputs": [
        {
          "output_type": "display_data",
          "data": {
            "text/plain": [
              "<Figure size 432x288 with 3 Axes>"
            ],
            "image/png": "[encoded data removed]"
          },
          "metadata": {
            "needs_background": "light"
          }
        }
      ],
      "source": [
        "(X_train, y_train), (X_test, y_test) = keras.datasets.fashion_mnist.load_data() # Load MNIST or FMNIST\n",
        "assert X_train.shape == (60000, 28, 28)\n",
        "assert X_test.shape == (10000, 28, 28)\n",
        "assert y_train.shape == (60000,)\n",
        "assert y_test.shape == (10000,)\n",
        "\n",
        "\n",
        "indices = list(np.random.randint(X_train.shape[0],size=3))\n",
        "for i in range(3):\n",
        "    plt.subplot(1,3,i+1)\n",
        "    plt.imshow(X_train[indices[i]].reshape(28,28), cmap='gray', interpolation='none')\n",
        "    plt.title(\"Index {} Class {}\".format(indices[i], y_train[indices[i]]))\n",
        "    plt.tight_layout()"
      ]
    },
    {
      "cell_type": "code",
      "execution_count": 22,
      "metadata": {
        "colab": {
          "base_uri": "https://localhost:8080/"
        },
        "id": "oIRI-uLoCX69",
        "outputId": "da621572-a02b-4ffe-f783-41de14bdb17a"
      },
      "outputs": [
        {
          "output_type": "stream",
          "name": "stdout",
          "text": [
            "size of training set is 50000 samples\n",
            "every train example is 28 by 28\n",
            "size of validation set is 10000 samples\n",
            "every validation example is 28 by 28\n",
            "size of training set is 50000 samples\n",
            "every train example has 784 features\n",
            "size of validation set is 10000 samples\n",
            "every validation example has 784 features\n"
          ]
        }
      ],
      "source": [
        "# Split train dataset into train and validation\n",
        "X_val = X_train[50000:60000]\n",
        "X_train = X_train[0:50000]\n",
        "y_val = y_train[50000:60000]\n",
        "y_train = y_train[0:50000]\n",
        "\n",
        "print(\"size of training set is\", str(X_train.shape[0]), \"samples\")\n",
        "print(\"every train example is\", str(X_train.shape[1]), \"by\", str(X_train.shape[2]))\n",
        "\n",
        "print(\"size of validation set is\", str(X_val.shape[0]), \"samples\")\n",
        "print(\"every validation example is\", str(X_val.shape[1]), \"by\", str(X_val.shape[2]))\n",
        "\n",
        "X_train = X_train.reshape(50000, 28*28)\n",
        "X_val = X_val.reshape(10000, 28*28)\n",
        "X_test = X_test.reshape(10000, 28*28)\n",
        "\n",
        "print(\"size of training set is\", str(X_train.shape[0]), \"samples\")\n",
        "print(\"every train example has\", str(X_train.shape[1]), \"features\")\n",
        "\n",
        "print(\"size of validation set is\", str(X_val.shape[0]), \"samples\")\n",
        "print(\"every validation example has\", str(X_val.shape[1]), \"features\")"
      ]
    },
    {
      "cell_type": "code",
      "execution_count": 23,
      "metadata": {
        "colab": {
          "base_uri": "https://localhost:8080/"
        },
        "id": "mDyZ8bZjCX69",
        "outputId": "0e8fb625-e12d-436a-fb88-6d03913f3584"
      },
      "outputs": [
        {
          "output_type": "execute_result",
          "data": {
            "text/plain": [
              "1.0"
            ]
          },
          "metadata": {},
          "execution_count": 23
        }
      ],
      "source": [
        "#Normalize Data\n",
        "\n",
        "X_train = X_train/255.0\n",
        "X_val = X_val/255.0\n",
        "X_test = X_test/255.0\n",
        "# X_train[0]\n",
        "np.max(X_train)"
      ]
    },
    {
      "cell_type": "code",
      "execution_count": 24,
      "metadata": {
        "colab": {
          "base_uri": "https://localhost:8080/"
        },
        "id": "3lIIy313CX69",
        "outputId": "620f7552-baef-4ccf-9fec-687164774eda"
      },
      "outputs": [
        {
          "output_type": "stream",
          "name": "stdout",
          "text": [
            "tf.Tensor([10000], shape=(1,), dtype=int32)\n",
            "tf.Tensor([10000    10], shape=(2,), dtype=int32)\n"
          ]
        }
      ],
      "source": [
        "size_input = X_train.shape[1]\n",
        "size_hidden1 = 128\n",
        "size_hidden2 = 128\n",
        "size_hidden3 = 128\n",
        "size_output = 10\n",
        "\n",
        "batch_size=128\n",
        "lr=0.1\n",
        "\n",
        "number_of_train_examples = X_train.shape[0]\n",
        "number_of_test_examples = X_test.shape[0]\n",
        "\n",
        "print(tf.shape(y_val))\n",
        "y_train = tf.keras.utils.to_categorical(y_train, num_classes=10) # Other function is tf.one_hot(y_train,depth=10)\n",
        "y_val = tf.keras.utils.to_categorical(y_val, num_classes=10)\n",
        "y_test = tf.keras.utils.to_categorical(y_test, num_classes=10)\n",
        "print(tf.shape(y_val))"
      ]
    },
    {
      "cell_type": "code",
      "execution_count": 25,
      "metadata": {
        "id": "obN7WPLpCX69"
      },
      "outputs": [],
      "source": [
        "# Define class to build mlp model\n",
        "class MLP(object):\n",
        "  def __init__(self, size_input, size_hidden1, size_hidden2, size_hidden3, size_output, device=None):\n",
        "    self.size_input, self.size_hidden1, self.size_hidden2, self.size_hidden3, self.size_output, self.device =\\\n",
        "    size_input, size_hidden1, size_hidden2, size_hidden3, size_output, device\n",
        "\n",
        "    self.initial=tf.keras.initializers.he_normal(seed=seed)\n",
        "    \n",
        "    # Initialize weights between input mapping and a layer g(f(x)) = layer\n",
        "    self.W1 = tf.Variable(self.initial([self.size_input, self.size_hidden1])) # Xavier(Fan-in fan-out) and Orthogonal\n",
        "    # Initialize biases for hidden layer\n",
        "    self.b1 = tf.Variable(tf.zeros([1, self.size_hidden1])) # 0 or constant(0.01)\n",
        "    \n",
        "    # Initialize weights between input layer and 1st hidden layer\n",
        "    self.W2 = tf.Variable(self.initial([self.size_hidden1, self.size_hidden2]))\n",
        "    # Initialize biases for hidden layer\n",
        "    self.b2 = tf.Variable(tf.zeros([1, self.size_hidden2]))\n",
        "    \n",
        "    # Initialize weights between 1st hidden layer and 2nd hidden layer\n",
        "    self.W3 = tf.Variable(self.initial([self.size_hidden2, self.size_hidden3]))\n",
        "    # Initialize biases for hidden layer\n",
        "    self.b3 = tf.Variable(tf.zeros([1, self.size_hidden3]))\n",
        "    \n",
        "     # Initialize weights between 2nd hidden layer and output layer\n",
        "    self.W4 = tf.Variable(self.initial([self.size_hidden3, self.size_output]))\n",
        "    # Initialize biases for output layer\n",
        "    self.b4 = tf.Variable(tf.zeros([1, self.size_output]))\n",
        "\n",
        "    self.gamma1=tf.Variable(tf.ones([1, self.size_hidden1]))\n",
        "    self.beta1=tf.Variable(tf.zeros([1, self.size_hidden1]))\n",
        "\n",
        "    self.gamma2=tf.Variable(tf.ones([1, self.size_hidden2]))\n",
        "    self.beta2=tf.Variable(tf.zeros([1, self.size_hidden2]))\n",
        "\n",
        "    self.gamma3=tf.Variable(tf.ones([1, self.size_hidden3]))\n",
        "    self.beta3=tf.Variable(tf.zeros([1, self.size_hidden3]))\n",
        "    \n",
        "    # Define variables to be updated during backpropagation\n",
        "    self.variables = [self.W1, self.W2, self.W3, self.W4, self.b1, self.b2, self.b3, self.b4, self.gamma1, self.beta1, self.gamma2, self.beta2, self.gamma3, self.beta3]\n",
        "\n",
        "    self.mean1=tf.Variable(tf.zeros([1, self.size_hidden1]))\n",
        "    self.var1=tf.Variable(tf.ones([1, self.size_hidden1]))\n",
        "    self.mean2=tf.Variable(tf.zeros([1, self.size_hidden2]))\n",
        "    self.var2=tf.Variable(tf.ones([1, self.size_hidden2]))\n",
        "    self.mean3=tf.Variable(tf.zeros([1, self.size_hidden3]))\n",
        "    self.var3=tf.Variable(tf.ones([1, self.size_hidden3]))\n",
        "\n",
        "    self.variables_untraining = [self.mean1, self.var1, self.mean2, self.var2, self.mean3, self.var3]\n",
        "\n",
        "    self.epsilon=0.001\n",
        "\n",
        "    #self.untrain_variables=[]\n",
        "  \n",
        "  def forward(self, X, training):\n",
        "    \"\"\"\n",
        "    forward pass\n",
        "    X: Tensor, inputs\n",
        "    \"\"\"\n",
        "    if self.device is not None:\n",
        "      with tf.device('gpu:0' if self.device=='gpu' else 'cpu'):\n",
        "        self.y = self.compute_output(X, training)\n",
        "    else:\n",
        "      self.y = self.compute_output(X, training)\n",
        "      \n",
        "    return self.y\n",
        "\n",
        "  def loss(self, y_pred, y_true):\n",
        "    '''\n",
        "    y_pred - Tensor of shape (batch_size, size_output)\n",
        "    y_true - Tensor of shape (batch_size, size_output)\n",
        "    '''\n",
        "    #y_true_tf = tf.cast(tf.reshape(y_true, (-1, self.size_output)), dtype=tf.float32)\n",
        "    y_true_tf = tf.cast(y_true, dtype=tf.float32)\n",
        "    y_pred_tf = tf.cast(y_pred, dtype=tf.float32)\n",
        "    cce = tf.keras.losses.CategoricalCrossentropy(from_logits=True)\n",
        "    loss_x = cce(y_true_tf, y_pred_tf)\n",
        "    \n",
        "    return loss_x\n",
        "\n",
        "  def backward(self, X_train, y_train, opti):\n",
        "    \"\"\"\n",
        "    backward pass\n",
        "    \"\"\"\n",
        "    optimizer = opti\n",
        "    \n",
        "    with tf.GradientTape() as tape:\n",
        "        \n",
        "      predicted = self.forward(X_train, True)\n",
        "      current_loss = self.loss(predicted, y_train)\n",
        "        \n",
        "    grads = tape.gradient(current_loss, self.variables)\n",
        "    optimizer.apply_gradients(zip(grads, self.variables))\n",
        "           \n",
        "  def compute_output(self, X, training):\n",
        "    \"\"\"\n",
        "    Custom method to obtain output tensor during forward pass\n",
        "    \"\"\"\n",
        "    if training==True:\n",
        "      # Cast X to float32\n",
        "      X_tf = tf.cast(X, dtype=tf.float32)\n",
        "      #X_tf = X\n",
        "      \n",
        "      # Compute values in hidden layers\n",
        "      z1 = tf.matmul(X_tf, self.W1) + self.b1\n",
        "      h1 = tf.nn.relu(z1)\n",
        "      mean1=tf.math.reduce_mean(h1, 0)\n",
        "      var1=tf.math.reduce_variance(h1, 0)\n",
        "      h1 = (h1-mean1)/tf.math.sqrt(var1+self.epsilon)*self.gamma1+self.beta1\n",
        "      \n",
        "      z2 = tf.matmul(h1, self.W2) + self.b2\n",
        "      h2 = tf.nn.relu(z2)\n",
        "      mean2=tf.math.reduce_mean(h2, 0)\n",
        "      var2=tf.math.reduce_variance(h2, 0)\n",
        "      h2 = (h2-mean2)/tf.math.sqrt(var2+self.epsilon)*self.gamma2+self.beta2\n",
        "      \n",
        "      z3 = tf.matmul(h2, self.W3) + self.b3\n",
        "      h3 = tf.nn.relu(z3)\n",
        "      mean3=tf.math.reduce_mean(h3, 0)\n",
        "      var3=tf.math.reduce_variance(h3, 0)\n",
        "      h3 = (h3-mean3)/tf.math.sqrt(var3+self.epsilon)*self.gamma3+self.beta3\n",
        "\n",
        "      # Compute output\n",
        "      output = tf.matmul(h3, self.W4) + self.b4\n",
        "      \n",
        "      #Now consider two things , First look at inbuild loss functions if they work with softmax or not and then change this \n",
        "      # Second add tf.Softmax(output) and then return this variable\n",
        "    elif training==False:\n",
        "      # Cast X to float32\n",
        "      X_tf = tf.cast(X, dtype=tf.float32)\n",
        "      #X_tf = X\n",
        "      \n",
        "      # Compute values in hidden layers\n",
        "      z1 = tf.matmul(X_tf, self.W1) + self.b1\n",
        "      h1 = tf.nn.relu(z1)\n",
        "      mean1=self.mean1\n",
        "      var1=self.var1\n",
        "      h1 = (h1-mean1)/tf.math.sqrt(var1+self.epsilon)*self.gamma1+self.beta1\n",
        "      \n",
        "      z2 = tf.matmul(h1, self.W2) + self.b2\n",
        "      h2 = tf.nn.relu(z2)\n",
        "      mean2=self.mean2\n",
        "      var2=self.var2\n",
        "      h2 = (h2-mean2)/tf.math.sqrt(var2+self.epsilon)*self.gamma2+self.beta2\n",
        "      \n",
        "      z3 = tf.matmul(h2, self.W3) + self.b3\n",
        "      h3 = tf.nn.relu(z3)\n",
        "      mean3=self.mean3\n",
        "      var3=self.var3\n",
        "      h3 = (h3-mean3)/tf.math.sqrt(var3+self.epsilon)*self.gamma3+self.beta3\n",
        "\n",
        "      # Compute output\n",
        "      output = tf.matmul(h3, self.W4) + self.b4\n",
        "\n",
        "    return (output)\n",
        "\n",
        "  def BNLayer(self, X):\n",
        "    X_tf = tf.cast(X, dtype=tf.float32)\n",
        "    #X_tf = X\n",
        "    \n",
        "    # Compute values in hidden layers\n",
        "    z1 = tf.matmul(X_tf, self.W1) + self.b1\n",
        "    h1 = tf.nn.relu(z1)\n",
        "    self.mean1=tf.math.reduce_mean(h1, 0)\n",
        "    self.var1=tf.math.reduce_variance(h1, 0)\n",
        "    h1 = (h1-self.mean1)/tf.math.sqrt(self.var1+self.epsilon)*self.gamma1+self.beta1\n",
        "    \n",
        "    z2 = tf.matmul(h1, self.W2) + self.b2\n",
        "    h2 = tf.nn.relu(z2)\n",
        "    self.mean2=tf.math.reduce_mean(h2, 0)\n",
        "    self.var2=tf.math.reduce_variance(h2, 0)\n",
        "    h2 = (h2-self.mean2)/tf.math.sqrt(self.var2+self.epsilon)*self.gamma2+self.beta2\n",
        "    \n",
        "    z3 = tf.matmul(h2, self.W3) + self.b3\n",
        "    h3 = tf.nn.relu(z3)\n",
        "    self.mean3=tf.math.reduce_mean(h3, 0)\n",
        "    self.var3=tf.math.reduce_variance(h3, 0)\n",
        "    h3 = (h3-self.mean3)/tf.math.sqrt(self.var3+self.epsilon)*self.gamma3+self.beta3\n",
        "    \n",
        "    return"
      ]
    },
    {
      "cell_type": "code",
      "execution_count": 28,
      "metadata": {
        "colab": {
          "base_uri": "https://localhost:8080/",
          "height": 682
        },
        "id": "hJUoVOzAkARt",
        "outputId": "8196d456-5a11-423d-ae81-35e23e7102d6"
      },
      "outputs": [
        {
          "output_type": "stream",
          "name": "stdout",
          "text": [
            "Epoch 0, \n",
            " Val Loss: 2.6522812843322754, Val Accuracy: 4.610000133514404\n",
            "Epoch 1, \n",
            "Loss: 0.3574874997138977, Accuracy: 87.20600128173828, Val loss: 0.3879603147506714, Val Accuracy: 86.22999572753906\n",
            "Epoch 2, \n",
            "Loss: 0.307399719953537, Accuracy: 88.71600341796875, Val loss: 0.3594907224178314, Val Accuracy: 86.97999572753906\n",
            "Epoch 3, \n",
            "Loss: 0.2919052243232727, Accuracy: 89.1780014038086, Val loss: 0.3552611768245697, Val Accuracy: 87.05999755859375\n",
            "Epoch 4, \n",
            "Loss: 0.2627684772014618, Accuracy: 90.27799987792969, Val loss: 0.33892884850502014, Val Accuracy: 87.79000091552734\n",
            "Epoch 5, \n",
            "Loss: 0.2508739233016968, Accuracy: 90.7280044555664, Val loss: 0.33590373396873474, Val Accuracy: 87.79000091552734\n",
            "Epoch 6, \n",
            "Loss: 0.23458921909332275, Accuracy: 91.3699951171875, Val loss: 0.3391087055206299, Val Accuracy: 87.63999938964844\n",
            "Epoch 7, \n",
            "Loss: 0.23351457715034485, Accuracy: 91.36000061035156, Val loss: 0.34540629386901855, Val Accuracy: 87.91000366210938\n",
            "Epoch 8, \n",
            "Loss: 0.21579261124134064, Accuracy: 92.03600311279297, Val loss: 0.3384791910648346, Val Accuracy: 88.12999725341797\n",
            "Epoch 9, \n",
            "Loss: 0.21360671520233154, Accuracy: 92.10600280761719, Val loss: 0.35339945554733276, Val Accuracy: 87.77999877929688\n",
            "Epoch 10, \n",
            "Loss: 0.20566628873348236, Accuracy: 92.45999908447266, Val loss: 0.352200448513031, Val Accuracy: 88.06999969482422\n",
            "\n",
            "Total time taken (in seconds): 119.92\n"
          ]
        },
        {
          "output_type": "display_data",
          "data": {
            "text/plain": [
              "<Figure size 432x288 with 1 Axes>"
            ],
            "image/png": "[encoded data removed]"
          },
          "metadata": {
            "needs_background": "light"
          }
        }
      ],
      "source": [
        "NUM_EPOCHS = 10\n",
        "opti = tf.keras.optimizers.SGD(learning_rate = 0.1)\n",
        "train_loss = tf.keras.metrics.Mean(name='train_loss')\n",
        "train_accuracy = tf.keras.metrics.CategoricalAccuracy(name='train_accuracy')\n",
        "\n",
        "val_loss = tf.keras.metrics.Mean(name='val_loss')\n",
        "val_accuracy = tf.keras.metrics.CategoricalAccuracy(name='val_accuracy')\n",
        "\n",
        "train_loss.reset_states()\n",
        "train_accuracy.reset_states()\n",
        "val_loss.reset_states()\n",
        "val_accuracy.reset_states()\n",
        "\n",
        "mlp_on_default = MLP(size_input, size_hidden1, size_hidden2, size_hidden3, size_output)\n",
        "\n",
        "valid_ds = tf.data.Dataset.from_tensor_slices((X_val, y_val)).batch(X_val.shape[0])\n",
        "train_ds = tf.data.Dataset.from_tensor_slices((X_train, y_train)).shuffle(25, seed=seed).batch(batch_size)\n",
        "train_ds_all = tf.data.Dataset.from_tensor_slices((X_train, y_train)).batch(X_train.shape[0])\n",
        "\n",
        "for inputs, outputs in valid_ds:\n",
        "  preds = mlp_on_default.forward(inputs, False)\n",
        "  val_loss(mlp_on_default.loss(preds,outputs))\n",
        "  val_accuracy(outputs, preds)\n",
        "\n",
        "print(\n",
        "  f'Epoch {0}, \\n '\n",
        "  f'Val Loss: {val_loss.result()}, '\n",
        "  f'Val Accuracy: {val_accuracy.result() * 100}'\n",
        ")\n",
        "plt.plot(0, val_accuracy.result(), 'ro-',label=\"Validate accuracy\")\n",
        "\n",
        "time_start = time.time()\n",
        "for epoch in range(NUM_EPOCHS):\n",
        "  train_loss.reset_states()\n",
        "  train_accuracy.reset_states()\n",
        "  val_loss.reset_states()\n",
        "  val_accuracy.reset_states()\n",
        "\n",
        "  train_ds = tf.data.Dataset.from_tensor_slices((X_train, y_train)).shuffle(25, seed=epoch*seed).batch(batch_size)\n",
        "  \n",
        "  for inputs, outputs in train_ds:\n",
        "    mlp_on_default.backward(inputs, outputs,opti)\n",
        "  for inputs, outputs in train_ds_all:\n",
        "    mlp_on_default.BNLayer(inputs)\n",
        "  #print(mlp_on_default.variables_untraining[0])\n",
        "\n",
        "  for inputs, outputs in train_ds_all:\n",
        "    preds = mlp_on_default.forward(inputs, False)\n",
        "    train_loss(mlp_on_default.loss(preds,outputs))\n",
        "    train_accuracy(outputs, preds)\n",
        "\n",
        "  for inputs, outputs in valid_ds:\n",
        "    preds = mlp_on_default.forward(inputs, False)\n",
        "    val_loss(mlp_on_default.loss(preds,outputs))\n",
        "    val_accuracy(outputs, preds)\n",
        "  \n",
        "  print(\n",
        "    f'Epoch {epoch + 1}, \\n'\n",
        "    f'Loss: {train_loss.result()}, '\n",
        "    f'Accuracy: {train_accuracy.result() * 100}, '\n",
        "    f'Val loss: {val_loss.result()}, '\n",
        "    f'Val Accuracy: {val_accuracy.result() * 100}'\n",
        "  )\n",
        "  plt.plot(epoch + 1, train_accuracy.result(), 'go-',label=\"Train accuracy\")\n",
        "  plt.plot(epoch + 1, val_accuracy.result(), 'ro-',label=\"Validate accuracy\")\n",
        "\n",
        "time_taken = time.time() - time_start\n",
        "\n",
        "print('\\nTotal time taken (in seconds): {:.2f}'.format(time_taken))"
      ]
    },
    {
      "cell_type": "code",
      "execution_count": 30,
      "metadata": {
        "colab": {
          "base_uri": "https://localhost:8080/"
        },
        "id": "HXEoRopzkARv",
        "outputId": "016e6e33-57d2-4717-d55d-23b7beb22aa5"
      },
      "outputs": [
        {
          "output_type": "stream",
          "name": "stdout",
          "text": [
            "Test Loss: 0.3823568820953369, Test Accuracy: 87.29000091552734\n"
          ]
        }
      ],
      "source": [
        "test_loss = tf.keras.metrics.Mean(name='test_loss')\n",
        "test_accuracy = tf.keras.metrics.CategoricalAccuracy(name='test_accuracy')\n",
        "\n",
        "test_loss.reset_states()\n",
        "test_accuracy.reset_states()\n",
        "\n",
        "train_ds_all = tf.data.Dataset.from_tensor_slices((X_train, y_train)).batch(X_train.shape[0])\n",
        "for inputs, outputs in train_ds_all:\n",
        "  mlp_on_default.BNLayer(inputs)\n",
        "\n",
        "test_ds = tf.data.Dataset.from_tensor_slices((X_test, y_test)).batch(X_test.shape[0])\n",
        "\n",
        "for inputs, outputs in test_ds:\n",
        "  preds = mlp_on_default.forward(inputs,False)\n",
        "  test_loss(mlp_on_default.loss(preds,outputs))\n",
        "  test_accuracy(outputs, preds)\n",
        "\n",
        "print(\n",
        "  f'Test Loss: {test_loss.result()}, '\n",
        "  f'Test Accuracy: {test_accuracy.result() * 100}'\n",
        ")"
      ]
    }
  ],
  "metadata": {
    "colab": {
      "collapsed_sections": [],
      "name": "Post_Act_MLP.ipynb",
      "provenance": []
    },
    "kernelspec": {
      "display_name": "Python 3",
      "language": "python",
      "name": "python3"
    },
    "language_info": {
      "codemirror_mode": {
        "name": "ipython",
        "version": 3
      },
      "file_extension": ".py",
      "mimetype": "text/x-python",
      "name": "python",
      "nbconvert_exporter": "python",
      "pygments_lexer": "ipython3",
      "version": "3.8.5"
    }
  },
  "nbformat": 4,
  "nbformat_minor": 0
}